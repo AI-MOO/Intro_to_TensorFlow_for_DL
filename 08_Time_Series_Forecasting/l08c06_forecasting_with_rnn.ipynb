{
  "cells": [
    {
      "cell_type": "markdown",
      "metadata": {
        "id": "Za8-Nr5k11fh"
      },
      "source": [
        "##### Copyright 2018 The TensorFlow Authors."
      ]
    },
    {
      "cell_type": "code",
      "execution_count": null,
      "metadata": {
        "cellView": "form",
        "id": "Eq10uEbw0E4l"
      },
      "outputs": [],
      "source": [
        "#@title Licensed under the Apache License, Version 2.0 (the \"License\");\n",
        "# you may not use this file except in compliance with the License.\n",
        "# You may obtain a copy of the License at\n",
        "#\n",
        "# https://www.apache.org/licenses/LICENSE-2.0\n",
        "#\n",
        "# Unless required by applicable law or agreed to in writing, software\n",
        "# distributed under the License is distributed on an \"AS IS\" BASIS,\n",
        "# WITHOUT WARRANTIES OR CONDITIONS OF ANY KIND, either express or implied.\n",
        "# See the License for the specific language governing permissions and\n",
        "# limitations under the License."
      ]
    },
    {
      "cell_type": "markdown",
      "metadata": {
        "id": "nuRx7K-sirJr"
      },
      "source": [
        "# Forecasting with an RNN"
      ]
    },
    {
      "cell_type": "markdown",
      "metadata": {
        "id": "97jsq1rHh2Ds"
      },
      "source": [
        "<table class=\"tfo-notebook-buttons\" align=\"left\">\n",
        "  <td>\n",
        "    <a target=\"_blank\" href=\"https://colab.research.google.com/github/tensorflow/examples/blob/master/courses/udacity_intro_to_tensorflow_for_deep_learning/l08c06_forecasting_with_rnn.ipynb\"><img src=\"https://www.tensorflow.org/images/colab_logo_32px.png\" />Run in Google Colab</a>\n",
        "  </td>\n",
        "  <td>\n",
        "    <a target=\"_blank\" href=\"https://github.com/tensorflow/examples/blob/master/courses/udacity_intro_to_tensorflow_for_deep_learning/l08c06_forecasting_with_rnn.ipynb\"><img src=\"https://www.tensorflow.org/images/GitHub-Mark-32px.png\" />View source on GitHub</a>\n",
        "  </td>\n",
        "</table>"
      ]
    },
    {
      "cell_type": "markdown",
      "metadata": {
        "id": "vidayERjaO5q"
      },
      "source": [
        "## Setup"
      ]
    },
    {
      "cell_type": "code",
      "execution_count": null,
      "metadata": {
        "id": "gqWabzlJ63nL"
      },
      "outputs": [],
      "source": [
        "import numpy as np\n",
        "import matplotlib.pyplot as plt\n",
        "import tensorflow as tf\n",
        "\n",
        "keras = tf.keras"
      ]
    },
    {
      "cell_type": "code",
      "execution_count": null,
      "metadata": {
        "id": "cg1hfKCPldZG"
      },
      "outputs": [],
      "source": [
        "def plot_series(time, series, format=\"-\", start=0, end=None, label=None):\n",
        "    plt.plot(time[start:end], series[start:end], format, label=label)\n",
        "    plt.xlabel(\"Time\")\n",
        "    plt.ylabel(\"Value\")\n",
        "    if label:\n",
        "        plt.legend(fontsize=14)\n",
        "    plt.grid(True)\n",
        "\n",
        "def trend(time, slope=0):\n",
        "    return slope * time\n",
        "\n",
        "\n",
        "def seasonal_pattern(season_time):\n",
        "    \"\"\"Just an arbitrary pattern, you can change it if you wish\"\"\"\n",
        "    return np.where(season_time < 0.4,\n",
        "                    np.cos(season_time * 2 * np.pi),\n",
        "                    1 / np.exp(3 * season_time))\n",
        "\n",
        "\n",
        "def seasonality(time, period, amplitude=1, phase=0):\n",
        "    \"\"\"Repeats the same pattern at each period\"\"\"\n",
        "    season_time = ((time + phase) % period) / period\n",
        "    return amplitude * seasonal_pattern(season_time)\n",
        "\n",
        "\n",
        "def white_noise(time, noise_level=1, seed=None):\n",
        "    rnd = np.random.RandomState(seed)\n",
        "    return rnd.randn(len(time)) * noise_level\n",
        "\n",
        "\n",
        "def window_dataset(series, window_size, batch_size=32,\n",
        "                   shuffle_buffer=1000):\n",
        "    dataset = tf.data.Dataset.from_tensor_slices(series)\n",
        "    dataset = dataset.window(window_size + 1, shift=1, drop_remainder=True)\n",
        "    dataset = dataset.flat_map(lambda window: window.batch(window_size + 1))\n",
        "    dataset = dataset.shuffle(shuffle_buffer)\n",
        "    dataset = dataset.map(lambda window: (window[:-1], window[-1]))\n",
        "    dataset = dataset.batch(batch_size).prefetch(1)\n",
        "    return dataset\n",
        "\n",
        "def model_forecast(model, series, window_size):\n",
        "    ds = tf.data.Dataset.from_tensor_slices(series)\n",
        "    ds = ds.window(window_size, shift=1, drop_remainder=True)\n",
        "    ds = ds.flat_map(lambda w: w.batch(window_size))\n",
        "    ds = ds.batch(32).prefetch(1)\n",
        "    forecast = model.predict(ds)\n",
        "    return forecast"
      ]
    },
    {
      "cell_type": "code",
      "execution_count": null,
      "metadata": {
        "id": "iL2DDjV3lel6"
      },
      "outputs": [],
      "source": [
        "time = np.arange(4 * 365 + 1)\n",
        "\n",
        "slope = 0.05\n",
        "baseline = 10\n",
        "amplitude = 40\n",
        "series = baseline + trend(time, slope) + seasonality(time, period=365, amplitude=amplitude)\n",
        "\n",
        "noise_level = 5\n",
        "noise = white_noise(time, noise_level, seed=42)\n",
        "\n",
        "series += noise\n",
        "\n",
        "plt.figure(figsize=(10, 6))\n",
        "plot_series(time, series)\n",
        "plt.show()"
      ]
    },
    {
      "cell_type": "code",
      "execution_count": null,
      "metadata": {
        "id": "Zmp1JXKxk9Vb"
      },
      "outputs": [],
      "source": [
        "split_time = 1000\n",
        "time_train = time[:split_time]\n",
        "x_train = series[:split_time]\n",
        "time_valid = time[split_time:]\n",
        "x_valid = series[split_time:]"
      ]
    },
    {
      "cell_type": "markdown",
      "metadata": {
        "id": "vDs_w3kZ8OIw"
      },
      "source": [
        "## Simple RNN Forecasting"
      ]
    },
    {
      "cell_type": "code",
      "execution_count": null,
      "metadata": {
        "id": "YU4xRp9G8OIx"
      },
      "outputs": [],
      "source": [
        "keras.backend.clear_session()\n",
        "tf.random.set_seed(42)\n",
        "np.random.seed(42)\n",
        "\n",
        "window_size = 30\n",
        "train_set = window_dataset(x_train, window_size, batch_size=128)\n",
        "\n",
        "model = keras.models.Sequential([\n",
        "  keras.layers.Lambda(lambda x: tf.expand_dims(x, axis=-1),\n",
        "                      input_shape=[None]),\n",
        "  keras.layers.SimpleRNN(100, return_sequences=True),\n",
        "  keras.layers.SimpleRNN(100),\n",
        "  keras.layers.Dense(1),\n",
        "  keras.layers.Lambda(lambda x: x * 200.0)\n",
        "])\n",
        "lr_schedule = keras.callbacks.LearningRateScheduler(\n",
        "    lambda epoch: 1e-7 * 10**(epoch / 20))\n",
        "optimizer = keras.optimizers.SGD(lr=1e-7, momentum=0.9)\n",
        "model.compile(loss=keras.losses.Huber(),\n",
        "              optimizer=optimizer,\n",
        "              metrics=[\"mae\"])\n",
        "history = model.fit(train_set, epochs=100, callbacks=[lr_schedule])"
      ]
    },
    {
      "cell_type": "code",
      "execution_count": null,
      "metadata": {
        "id": "YJTlFAXF8OIy"
      },
      "outputs": [],
      "source": [
        "plt.semilogx(history.history[\"lr\"], history.history[\"loss\"])\n",
        "plt.axis([1e-7, 1e-4, 0, 30])"
      ]
    },
    {
      "cell_type": "code",
      "execution_count": null,
      "metadata": {
        "id": "T3yNjxWE8OIz"
      },
      "outputs": [],
      "source": [
        "keras.backend.clear_session()\n",
        "tf.random.set_seed(42)\n",
        "np.random.seed(42)\n",
        "\n",
        "window_size = 30\n",
        "train_set = window_dataset(x_train, window_size, batch_size=128)\n",
        "valid_set = window_dataset(x_valid, window_size, batch_size=128)\n",
        "\n",
        "model = keras.models.Sequential([\n",
        "  keras.layers.Lambda(lambda x: tf.expand_dims(x, axis=-1),\n",
        "                      input_shape=[None]),\n",
        "  keras.layers.SimpleRNN(100, return_sequences=True),\n",
        "  keras.layers.SimpleRNN(100),\n",
        "  keras.layers.Dense(1),\n",
        "  keras.layers.Lambda(lambda x: x * 200.0)\n",
        "])\n",
        "optimizer = keras.optimizers.SGD(lr=1.5e-6, momentum=0.9)\n",
        "model.compile(loss=keras.losses.Huber(),\n",
        "              optimizer=optimizer,\n",
        "              metrics=[\"mae\"])\n",
        "early_stopping = keras.callbacks.EarlyStopping(patience=50)\n",
        "model_checkpoint = keras.callbacks.ModelCheckpoint(\n",
        "    \"my_checkpoint\", save_best_only=True)\n",
        "model.fit(train_set, epochs=500,\n",
        "          validation_data=valid_set,\n",
        "          callbacks=[early_stopping, model_checkpoint])"
      ]
    },
    {
      "cell_type": "code",
      "execution_count": null,
      "metadata": {
        "id": "4KuPtKFe8OI0"
      },
      "outputs": [],
      "source": [
        "model = keras.models.load_model(\"my_checkpoint\")"
      ]
    },
    {
      "cell_type": "code",
      "execution_count": null,
      "metadata": {
        "id": "cxq09qOg8OI1"
      },
      "outputs": [],
      "source": [
        "rnn_forecast = model_forecast(\n",
        "    model,\n",
        "    series[split_time - window_size:-1],\n",
        "    window_size)[:, 0]"
      ]
    },
    {
      "cell_type": "code",
      "execution_count": null,
      "metadata": {
        "id": "PkC_JssS8OI2"
      },
      "outputs": [],
      "source": [
        "plt.figure(figsize=(10, 6))\n",
        "plot_series(time_valid, x_valid)\n",
        "plot_series(time_valid, rnn_forecast)"
      ]
    },
    {
      "cell_type": "code",
      "execution_count": null,
      "metadata": {
        "id": "1mwfgEK08OI3"
      },
      "outputs": [],
      "source": [
        "keras.metrics.mean_absolute_error(x_valid, rnn_forecast).numpy()"
      ]
    },
    {
      "cell_type": "markdown",
      "metadata": {
        "id": "KNG7s8jt8OI4"
      },
      "source": [
        "## Sequence-to-Sequence Forecasting"
      ]
    },
    {
      "cell_type": "code",
      "execution_count": null,
      "metadata": {
        "id": "bsKGxfiE8OI4"
      },
      "outputs": [],
      "source": [
        "def seq2seq_window_dataset(series, window_size, batch_size=32,\n",
        "                           shuffle_buffer=1000):\n",
        "    series = tf.expand_dims(series, axis=-1)\n",
        "    ds = tf.data.Dataset.from_tensor_slices(series)\n",
        "    ds = ds.window(window_size + 1, shift=1, drop_remainder=True)\n",
        "    ds = ds.flat_map(lambda w: w.batch(window_size + 1))\n",
        "    ds = ds.shuffle(shuffle_buffer)\n",
        "    ds = ds.map(lambda w: (w[:-1], w[1:]))\n",
        "    return ds.batch(batch_size).prefetch(1)"
      ]
    },
    {
      "cell_type": "code",
      "execution_count": null,
      "metadata": {
        "id": "5Nk2C7WP8OI5"
      },
      "outputs": [],
      "source": [
        "for X_batch, Y_batch in seq2seq_window_dataset(tf.range(10), 3,\n",
        "                                               batch_size=1):\n",
        "    print(\"X:\", X_batch.numpy())\n",
        "    print(\"Y:\", Y_batch.numpy())"
      ]
    },
    {
      "cell_type": "code",
      "execution_count": 17,
      "metadata": {
        "id": "4JSc-Btk8OI7",
        "outputId": "39516ae4-a613-44dd-aac1-f3c13870c6c5",
        "colab": {
          "base_uri": "https://localhost:8080/"
        }
      },
      "outputs": [
        {
          "metadata": {
            "tags": null
          },
          "name": "stderr",
          "output_type": "stream",
          "text": [
            "WARNING:absl:`lr` is deprecated in Keras optimizer, please use `learning_rate` or use the legacy optimizer, e.g.,tf.keras.optimizers.legacy.SGD.\n"
          ]
        },
        {
          "output_type": "stream",
          "name": "stdout",
          "text": [
            "Epoch 1/100\n",
            "8/8 [==============================] - 2s 44ms/step - loss: 38.9656 - mae: 39.4630 - lr: 1.0000e-07\n",
            "Epoch 2/100\n",
            "8/8 [==============================] - 0s 36ms/step - loss: 26.9259 - mae: 27.4211 - lr: 1.0798e-07\n",
            "Epoch 3/100\n",
            "8/8 [==============================] - 0s 37ms/step - loss: 26.5170 - mae: 27.0104 - lr: 1.1659e-07\n",
            "Epoch 4/100\n",
            "8/8 [==============================] - 0s 35ms/step - loss: 23.6626 - mae: 24.1565 - lr: 1.2589e-07\n",
            "Epoch 5/100\n",
            "8/8 [==============================] - 0s 37ms/step - loss: 22.0762 - mae: 22.5696 - lr: 1.3594e-07\n",
            "Epoch 6/100\n",
            "8/8 [==============================] - 0s 39ms/step - loss: 20.7281 - mae: 21.2199 - lr: 1.4678e-07\n",
            "Epoch 7/100\n",
            "8/8 [==============================] - 0s 36ms/step - loss: 19.4308 - mae: 19.9224 - lr: 1.5849e-07\n",
            "Epoch 8/100\n",
            "8/8 [==============================] - 0s 39ms/step - loss: 18.2915 - mae: 18.7815 - lr: 1.7113e-07\n",
            "Epoch 9/100\n",
            "8/8 [==============================] - 0s 37ms/step - loss: 17.4160 - mae: 17.9045 - lr: 1.8478e-07\n",
            "Epoch 10/100\n",
            "8/8 [==============================] - 0s 39ms/step - loss: 16.6863 - mae: 17.1742 - lr: 1.9953e-07\n",
            "Epoch 11/100\n",
            "8/8 [==============================] - 0s 35ms/step - loss: 16.0566 - mae: 16.5423 - lr: 2.1544e-07\n",
            "Epoch 12/100\n",
            "8/8 [==============================] - 0s 39ms/step - loss: 15.5006 - mae: 15.9872 - lr: 2.3263e-07\n",
            "Epoch 13/100\n",
            "8/8 [==============================] - 0s 37ms/step - loss: 15.0202 - mae: 15.5075 - lr: 2.5119e-07\n",
            "Epoch 14/100\n",
            "8/8 [==============================] - 1s 62ms/step - loss: 14.5891 - mae: 15.0749 - lr: 2.7123e-07\n",
            "Epoch 15/100\n",
            "8/8 [==============================] - 1s 60ms/step - loss: 14.1720 - mae: 14.6559 - lr: 2.9286e-07\n",
            "Epoch 16/100\n",
            "8/8 [==============================] - 1s 42ms/step - loss: 13.7742 - mae: 14.2576 - lr: 3.1623e-07\n",
            "Epoch 17/100\n",
            "8/8 [==============================] - 0s 37ms/step - loss: 13.3869 - mae: 13.8717 - lr: 3.4145e-07\n",
            "Epoch 18/100\n",
            "8/8 [==============================] - 0s 38ms/step - loss: 13.0194 - mae: 13.5035 - lr: 3.6869e-07\n",
            "Epoch 19/100\n",
            "8/8 [==============================] - 0s 38ms/step - loss: 12.6785 - mae: 13.1623 - lr: 3.9811e-07\n",
            "Epoch 20/100\n",
            "8/8 [==============================] - 0s 36ms/step - loss: 12.3529 - mae: 12.8367 - lr: 4.2987e-07\n",
            "Epoch 21/100\n",
            "8/8 [==============================] - 0s 40ms/step - loss: 12.0394 - mae: 12.5227 - lr: 4.6416e-07\n",
            "Epoch 22/100\n",
            "8/8 [==============================] - 0s 36ms/step - loss: 11.7336 - mae: 12.2162 - lr: 5.0119e-07\n",
            "Epoch 23/100\n",
            "8/8 [==============================] - 0s 36ms/step - loss: 11.4581 - mae: 11.9409 - lr: 5.4117e-07\n",
            "Epoch 24/100\n",
            "8/8 [==============================] - 0s 36ms/step - loss: 11.1911 - mae: 11.6743 - lr: 5.8434e-07\n",
            "Epoch 25/100\n",
            "8/8 [==============================] - 0s 38ms/step - loss: 10.9260 - mae: 11.4088 - lr: 6.3096e-07\n",
            "Epoch 26/100\n",
            "8/8 [==============================] - 0s 38ms/step - loss: 10.6910 - mae: 11.1737 - lr: 6.8129e-07\n",
            "Epoch 27/100\n",
            "8/8 [==============================] - 0s 38ms/step - loss: 10.4632 - mae: 10.9466 - lr: 7.3564e-07\n",
            "Epoch 28/100\n",
            "8/8 [==============================] - 0s 36ms/step - loss: 10.2597 - mae: 10.7416 - lr: 7.9433e-07\n",
            "Epoch 29/100\n",
            "8/8 [==============================] - 0s 38ms/step - loss: 10.0488 - mae: 10.5303 - lr: 8.5770e-07\n",
            "Epoch 30/100\n",
            "8/8 [==============================] - 0s 37ms/step - loss: 9.8535 - mae: 10.3345 - lr: 9.2612e-07\n",
            "Epoch 31/100\n",
            "8/8 [==============================] - 0s 38ms/step - loss: 9.6792 - mae: 10.1609 - lr: 1.0000e-06\n",
            "Epoch 32/100\n",
            "8/8 [==============================] - 0s 37ms/step - loss: 9.5016 - mae: 9.9828 - lr: 1.0798e-06\n",
            "Epoch 33/100\n",
            "8/8 [==============================] - 0s 35ms/step - loss: 9.3209 - mae: 9.8016 - lr: 1.1659e-06\n",
            "Epoch 34/100\n",
            "8/8 [==============================] - 0s 37ms/step - loss: 9.1559 - mae: 9.6367 - lr: 1.2589e-06\n",
            "Epoch 35/100\n",
            "8/8 [==============================] - 1s 64ms/step - loss: 8.9932 - mae: 9.4744 - lr: 1.3594e-06\n",
            "Epoch 36/100\n",
            "8/8 [==============================] - 1s 59ms/step - loss: 8.8557 - mae: 9.3370 - lr: 1.4678e-06\n",
            "Epoch 37/100\n",
            "8/8 [==============================] - 1s 63ms/step - loss: 8.6918 - mae: 9.1732 - lr: 1.5849e-06\n",
            "Epoch 38/100\n",
            "8/8 [==============================] - 0s 38ms/step - loss: 8.5469 - mae: 9.0284 - lr: 1.7113e-06\n",
            "Epoch 39/100\n",
            "8/8 [==============================] - 0s 39ms/step - loss: 8.3649 - mae: 8.8459 - lr: 1.8478e-06\n",
            "Epoch 40/100\n",
            "8/8 [==============================] - 0s 37ms/step - loss: 8.2086 - mae: 8.6890 - lr: 1.9953e-06\n",
            "Epoch 41/100\n",
            "8/8 [==============================] - 0s 38ms/step - loss: 8.0473 - mae: 8.5283 - lr: 2.1544e-06\n",
            "Epoch 42/100\n",
            "8/8 [==============================] - 0s 38ms/step - loss: 7.9683 - mae: 8.4492 - lr: 2.3263e-06\n",
            "Epoch 43/100\n",
            "8/8 [==============================] - 0s 37ms/step - loss: 8.5483 - mae: 9.0324 - lr: 2.5119e-06\n",
            "Epoch 44/100\n",
            "8/8 [==============================] - 0s 39ms/step - loss: 8.3488 - mae: 8.8315 - lr: 2.7123e-06\n",
            "Epoch 45/100\n",
            "8/8 [==============================] - 0s 40ms/step - loss: 8.5566 - mae: 9.0418 - lr: 2.9286e-06\n",
            "Epoch 46/100\n",
            "8/8 [==============================] - 0s 37ms/step - loss: 8.9400 - mae: 9.4263 - lr: 3.1623e-06\n",
            "Epoch 47/100\n",
            "8/8 [==============================] - 0s 38ms/step - loss: 9.9074 - mae: 10.3959 - lr: 3.4145e-06\n",
            "Epoch 48/100\n",
            "8/8 [==============================] - 0s 36ms/step - loss: 8.9110 - mae: 9.3977 - lr: 3.6869e-06\n",
            "Epoch 49/100\n",
            "8/8 [==============================] - 0s 40ms/step - loss: 10.1573 - mae: 10.6471 - lr: 3.9811e-06\n",
            "Epoch 50/100\n",
            "8/8 [==============================] - 0s 36ms/step - loss: 9.5423 - mae: 10.0311 - lr: 4.2987e-06\n",
            "Epoch 51/100\n",
            "8/8 [==============================] - 0s 37ms/step - loss: 10.9395 - mae: 11.4329 - lr: 4.6416e-06\n",
            "Epoch 52/100\n",
            "8/8 [==============================] - 0s 37ms/step - loss: 9.9475 - mae: 10.4366 - lr: 5.0119e-06\n",
            "Epoch 53/100\n",
            "8/8 [==============================] - 0s 36ms/step - loss: 9.3354 - mae: 9.8233 - lr: 5.4117e-06\n",
            "Epoch 54/100\n",
            "8/8 [==============================] - 0s 39ms/step - loss: 10.9802 - mae: 11.4732 - lr: 5.8434e-06\n",
            "Epoch 55/100\n",
            "8/8 [==============================] - 0s 35ms/step - loss: 11.2219 - mae: 11.7154 - lr: 6.3096e-06\n",
            "Epoch 56/100\n",
            "8/8 [==============================] - 0s 42ms/step - loss: 11.3637 - mae: 11.8579 - lr: 6.8129e-06\n",
            "Epoch 57/100\n",
            "8/8 [==============================] - 1s 61ms/step - loss: 11.7700 - mae: 12.2640 - lr: 7.3564e-06\n",
            "Epoch 58/100\n",
            "8/8 [==============================] - 1s 58ms/step - loss: 11.7147 - mae: 12.2091 - lr: 7.9433e-06\n",
            "Epoch 59/100\n",
            "8/8 [==============================] - 0s 39ms/step - loss: 12.0732 - mae: 12.5673 - lr: 8.5770e-06\n",
            "Epoch 60/100\n",
            "8/8 [==============================] - 0s 35ms/step - loss: 12.6581 - mae: 13.1533 - lr: 9.2612e-06\n",
            "Epoch 61/100\n",
            "8/8 [==============================] - 0s 40ms/step - loss: 13.1452 - mae: 13.6408 - lr: 1.0000e-05\n",
            "Epoch 62/100\n",
            "8/8 [==============================] - 0s 36ms/step - loss: 13.3013 - mae: 13.7973 - lr: 1.0798e-05\n",
            "Epoch 63/100\n",
            "8/8 [==============================] - 0s 37ms/step - loss: 13.4448 - mae: 13.9405 - lr: 1.1659e-05\n",
            "Epoch 64/100\n",
            "8/8 [==============================] - 0s 37ms/step - loss: 14.3872 - mae: 14.8839 - lr: 1.2589e-05\n",
            "Epoch 65/100\n",
            "8/8 [==============================] - 0s 39ms/step - loss: 14.3747 - mae: 14.8705 - lr: 1.3594e-05\n",
            "Epoch 66/100\n",
            "8/8 [==============================] - 0s 37ms/step - loss: 13.8639 - mae: 14.3580 - lr: 1.4678e-05\n",
            "Epoch 67/100\n",
            "8/8 [==============================] - 0s 37ms/step - loss: 17.7162 - mae: 18.2100 - lr: 1.5849e-05\n",
            "Epoch 68/100\n",
            "8/8 [==============================] - 0s 36ms/step - loss: 35.3821 - mae: 35.8815 - lr: 1.7113e-05\n",
            "Epoch 69/100\n",
            "8/8 [==============================] - 0s 38ms/step - loss: 31.3843 - mae: 31.8824 - lr: 1.8478e-05\n",
            "Epoch 70/100\n",
            "8/8 [==============================] - 0s 36ms/step - loss: 32.5253 - mae: 33.0240 - lr: 1.9953e-05\n",
            "Epoch 71/100\n",
            "8/8 [==============================] - 0s 40ms/step - loss: 34.3356 - mae: 34.8337 - lr: 2.1544e-05\n",
            "Epoch 72/100\n",
            "8/8 [==============================] - 0s 40ms/step - loss: 32.3145 - mae: 32.8123 - lr: 2.3263e-05\n",
            "Epoch 73/100\n",
            "8/8 [==============================] - 0s 37ms/step - loss: 37.6756 - mae: 38.1753 - lr: 2.5119e-05\n",
            "Epoch 74/100\n",
            "8/8 [==============================] - 0s 39ms/step - loss: 37.4573 - mae: 37.9567 - lr: 2.7123e-05\n",
            "Epoch 75/100\n",
            "8/8 [==============================] - 0s 39ms/step - loss: 40.2813 - mae: 40.7811 - lr: 2.9286e-05\n",
            "Epoch 76/100\n",
            "8/8 [==============================] - 1s 63ms/step - loss: 39.3085 - mae: 39.8076 - lr: 3.1623e-05\n",
            "Epoch 77/100\n",
            "8/8 [==============================] - 1s 61ms/step - loss: 43.2120 - mae: 43.7116 - lr: 3.4145e-05\n",
            "Epoch 78/100\n",
            "8/8 [==============================] - 0s 39ms/step - loss: 43.5476 - mae: 44.0473 - lr: 3.6869e-05\n",
            "Epoch 79/100\n",
            "8/8 [==============================] - 0s 40ms/step - loss: 46.0873 - mae: 46.5872 - lr: 3.9811e-05\n",
            "Epoch 80/100\n",
            "8/8 [==============================] - 0s 39ms/step - loss: 46.5619 - mae: 47.0617 - lr: 4.2987e-05\n",
            "Epoch 81/100\n",
            "8/8 [==============================] - 0s 38ms/step - loss: 48.0651 - mae: 48.5649 - lr: 4.6416e-05\n",
            "Epoch 82/100\n",
            "8/8 [==============================] - 0s 37ms/step - loss: 50.2008 - mae: 50.7006 - lr: 5.0119e-05\n",
            "Epoch 83/100\n",
            "8/8 [==============================] - 0s 38ms/step - loss: 52.0717 - mae: 52.5716 - lr: 5.4117e-05\n",
            "Epoch 84/100\n",
            "8/8 [==============================] - 0s 42ms/step - loss: 54.5952 - mae: 55.0951 - lr: 5.8434e-05\n",
            "Epoch 85/100\n",
            "8/8 [==============================] - 0s 38ms/step - loss: 54.7469 - mae: 55.2466 - lr: 6.3096e-05\n",
            "Epoch 86/100\n",
            "8/8 [==============================] - 0s 40ms/step - loss: 53.9142 - mae: 54.4137 - lr: 6.8129e-05\n",
            "Epoch 87/100\n",
            "8/8 [==============================] - 0s 37ms/step - loss: 62.5985 - mae: 63.0982 - lr: 7.3564e-05\n",
            "Epoch 88/100\n",
            "8/8 [==============================] - 0s 39ms/step - loss: 59.9571 - mae: 60.4569 - lr: 7.9433e-05\n",
            "Epoch 89/100\n",
            "8/8 [==============================] - 0s 39ms/step - loss: 56.2219 - mae: 56.7217 - lr: 8.5770e-05\n",
            "Epoch 90/100\n",
            "8/8 [==============================] - 0s 37ms/step - loss: 61.4925 - mae: 61.9920 - lr: 9.2612e-05\n",
            "Epoch 91/100\n",
            "8/8 [==============================] - 0s 39ms/step - loss: 67.9729 - mae: 68.4727 - lr: 1.0000e-04\n",
            "Epoch 92/100\n",
            "8/8 [==============================] - 0s 39ms/step - loss: 75.7909 - mae: 76.2908 - lr: 1.0798e-04\n",
            "Epoch 93/100\n",
            "8/8 [==============================] - 0s 39ms/step - loss: 66.4019 - mae: 66.9017 - lr: 1.1659e-04\n",
            "Epoch 94/100\n",
            "8/8 [==============================] - 0s 38ms/step - loss: 87.3724 - mae: 87.8721 - lr: 1.2589e-04\n",
            "Epoch 95/100\n",
            "8/8 [==============================] - 1s 60ms/step - loss: 105.6850 - mae: 106.1849 - lr: 1.3594e-04\n",
            "Epoch 96/100\n",
            "8/8 [==============================] - 1s 64ms/step - loss: 114.7522 - mae: 115.2519 - lr: 1.4678e-04\n",
            "Epoch 97/100\n",
            "8/8 [==============================] - 1s 63ms/step - loss: 127.4715 - mae: 127.9714 - lr: 1.5849e-04\n",
            "Epoch 98/100\n",
            "8/8 [==============================] - 1s 61ms/step - loss: 188.1050 - mae: 188.6050 - lr: 1.7113e-04\n",
            "Epoch 99/100\n",
            "8/8 [==============================] - 0s 38ms/step - loss: 188.8066 - mae: 189.3066 - lr: 1.8478e-04\n",
            "Epoch 100/100\n",
            "8/8 [==============================] - 0s 39ms/step - loss: 173.0933 - mae: 173.5926 - lr: 1.9953e-04\n"
          ]
        }
      ],
      "source": [
        "keras.backend.clear_session()\n",
        "tf.random.set_seed(42)\n",
        "np.random.seed(42)\n",
        "\n",
        "window_size = 30\n",
        "train_set = seq2seq_window_dataset(x_train, window_size,\n",
        "                                   batch_size=128)\n",
        "\n",
        "model = keras.models.Sequential([\n",
        "  keras.layers.SimpleRNN(100, return_sequences=True,\n",
        "                         input_shape=[None, 1]),\n",
        "  keras.layers.SimpleRNN(100, return_sequences=True),\n",
        "  keras.layers.Dense(1),\n",
        "  keras.layers.Lambda(lambda x: x * 200)\n",
        "])\n",
        "lr_schedule = keras.callbacks.LearningRateScheduler(\n",
        "    lambda epoch: 1e-7 * 10**(epoch / 30))\n",
        "optimizer = keras.optimizers.SGD(lr=1e-7, momentum=0.9)\n",
        "model.compile(loss=keras.losses.Huber(),\n",
        "              optimizer=optimizer,\n",
        "              metrics=[\"mae\"])\n",
        "history = model.fit(train_set, epochs=100, callbacks=[lr_schedule])"
      ]
    },
    {
      "cell_type": "code",
      "execution_count": 18,
      "metadata": {
        "id": "YGNsWceq8OI8",
        "outputId": "f519cb1f-7722-431a-c2e3-80d3d87df640",
        "colab": {
          "base_uri": "https://localhost:8080/",
          "height": 458
        }
      },
      "outputs": [
        {
          "output_type": "execute_result",
          "data": {
            "text/plain": [
              "(1e-07, 0.0001, 0.0, 30.0)"
            ]
          },
          "metadata": {},
          "execution_count": 18
        },
        {
          "output_type": "display_data",
          "data": {
            "text/plain": [
              "<Figure size 640x480 with 1 Axes>"
            ],
            "image/png": "[encoded data removed]"
          },
          "metadata": {}
        }
      ],
      "source": [
        "plt.semilogx(history.history[\"lr\"], history.history[\"loss\"])\n",
        "plt.axis([1e-7, 1e-4, 0, 30])"
      ]
    },
    {
      "cell_type": "code",
      "execution_count": 19,
      "metadata": {
        "id": "G9lDnb0X8OI9",
        "outputId": "fc5a54b3-e649-4ce9-e1d1-95dc772bf1c4",
        "colab": {
          "base_uri": "https://localhost:8080/"
        }
      },
      "outputs": [
        {
          "output_type": "stream",
          "name": "stderr",
          "text": [
            "WARNING:absl:`lr` is deprecated in Keras optimizer, please use `learning_rate` or use the legacy optimizer, e.g.,tf.keras.optimizers.legacy.SGD.\n"
          ]
        },
        {
          "output_type": "stream",
          "name": "stdout",
          "text": [
            "Epoch 1/500\n",
            "8/8 [==============================] - 3s 135ms/step - loss: 21223.2383 - mae: 21223.7422 - val_loss: 25746.9492 - val_mae: 25747.4473\n",
            "Epoch 2/500\n",
            "8/8 [==============================] - 1s 61ms/step - loss: 19277.8594 - mae: 19278.3613 - val_loss: 13411.0068 - val_mae: 13411.5068\n",
            "Epoch 3/500\n",
            "8/8 [==============================] - 1s 60ms/step - loss: 23210.0469 - mae: 23210.5449 - val_loss: 66452.8594 - val_mae: 66453.3516\n",
            "Epoch 4/500\n",
            "8/8 [==============================] - 1s 60ms/step - loss: 74918.5312 - mae: 74919.0391 - val_loss: 13321.8818 - val_mae: 13322.3818\n",
            "Epoch 5/500\n",
            "8/8 [==============================] - 1s 60ms/step - loss: 24750.3203 - mae: 24750.8184 - val_loss: 28384.9609 - val_mae: 28385.4629\n",
            "Epoch 6/500\n",
            "8/8 [==============================] - 1s 63ms/step - loss: 20389.8438 - mae: 20390.3457 - val_loss: 33847.0625 - val_mae: 33847.5664\n",
            "Epoch 7/500\n",
            "8/8 [==============================] - 1s 56ms/step - loss: 19688.9375 - mae: 19689.4375 - val_loss: 26842.7793 - val_mae: 26843.2832\n",
            "Epoch 8/500\n",
            "8/8 [==============================] - 1s 56ms/step - loss: 22698.0293 - mae: 22698.5332 - val_loss: 9399.0840 - val_mae: 9399.5820\n",
            "Epoch 9/500\n",
            "8/8 [==============================] - 1s 83ms/step - loss: 19818.0156 - mae: 19818.5156 - val_loss: 30769.1621 - val_mae: 30769.6641\n",
            "Epoch 10/500\n",
            "8/8 [==============================] - 1s 92ms/step - loss: 19605.7441 - mae: 19606.2441 - val_loss: 30958.1309 - val_mae: 30958.6289\n",
            "Epoch 11/500\n",
            "8/8 [==============================] - 1s 107ms/step - loss: 21133.3125 - mae: 21133.8125 - val_loss: 21199.7637 - val_mae: 21200.2617\n",
            "Epoch 12/500\n",
            "8/8 [==============================] - 1s 57ms/step - loss: 20869.3809 - mae: 20869.8809 - val_loss: 18871.6016 - val_mae: 18872.0996\n",
            "Epoch 13/500\n",
            "8/8 [==============================] - 1s 60ms/step - loss: 20437.8867 - mae: 20438.3848 - val_loss: 19971.6797 - val_mae: 19972.1797\n",
            "Epoch 14/500\n",
            "8/8 [==============================] - 1s 57ms/step - loss: 20466.3262 - mae: 20466.8242 - val_loss: 19922.0879 - val_mae: 19922.5859\n",
            "Epoch 15/500\n",
            "8/8 [==============================] - 1s 55ms/step - loss: 20849.5488 - mae: 20850.0488 - val_loss: 22678.7988 - val_mae: 22679.2988\n",
            "Epoch 16/500\n",
            "8/8 [==============================] - 1s 60ms/step - loss: 20378.2930 - mae: 20378.7930 - val_loss: 15203.9951 - val_mae: 15204.4941\n",
            "Epoch 17/500\n",
            "8/8 [==============================] - 1s 61ms/step - loss: 19784.8203 - mae: 19785.3203 - val_loss: 22511.7422 - val_mae: 22512.2441\n",
            "Epoch 18/500\n",
            "8/8 [==============================] - 1s 59ms/step - loss: 20323.1035 - mae: 20323.6016 - val_loss: 19470.3594 - val_mae: 19470.8613\n"
          ]
        },
        {
          "output_type": "execute_result",
          "data": {
            "text/plain": [
              "<keras.src.callbacks.History at 0x7dfe3ca66da0>"
            ]
          },
          "metadata": {},
          "execution_count": 19
        }
      ],
      "source": [
        "keras.backend.clear_session()\n",
        "tf.random.set_seed(42)\n",
        "np.random.seed(42)\n",
        "\n",
        "window_size = 30\n",
        "train_set = seq2seq_window_dataset(x_train, window_size,\n",
        "                                   batch_size=128)\n",
        "valid_set = seq2seq_window_dataset(x_valid, window_size,\n",
        "                                   batch_size=128)\n",
        "\n",
        "model = keras.models.Sequential([\n",
        "  keras.layers.SimpleRNN(100, return_sequences=True,\n",
        "                         input_shape=[None, 1]),\n",
        "  keras.layers.SimpleRNN(100, return_sequences=True),\n",
        "  keras.layers.Dense(1),\n",
        "  keras.layers.Lambda(lambda x: x * 200.0)\n",
        "])\n",
        "optimizer = keras.optimizers.SGD(lr=1e-6, momentum=0.9)\n",
        "model.compile(loss=keras.losses.Huber(),\n",
        "              optimizer=optimizer,\n",
        "              metrics=[\"mae\"])\n",
        "early_stopping = keras.callbacks.EarlyStopping(patience=10)\n",
        "model.fit(train_set, epochs=500,\n",
        "          validation_data=valid_set,\n",
        "          callbacks=[early_stopping])"
      ]
    },
    {
      "cell_type": "code",
      "execution_count": null,
      "metadata": {
        "id": "4mglBRex8OI_"
      },
      "outputs": [],
      "source": [
        "rnn_forecast = model_forecast(model, series[..., np.newaxis], window_size)\n",
        "rnn_forecast = rnn_forecast[split_time - window_size:-1, -1, 0]"
      ]
    },
    {
      "cell_type": "code",
      "execution_count": null,
      "metadata": {
        "id": "Zl_FkcdI8OJA"
      },
      "outputs": [],
      "source": [
        "plt.figure(figsize=(10, 6))\n",
        "plot_series(time_valid, x_valid)\n",
        "plot_series(time_valid, rnn_forecast)"
      ]
    },
    {
      "cell_type": "code",
      "execution_count": 22,
      "metadata": {
        "id": "cznEtSVK8OJB",
        "outputId": "4ca9c47b-037b-4145-e996-9af9c8a49223",
        "colab": {
          "base_uri": "https://localhost:8080/"
        }
      },
      "outputs": [
        {
          "data": {
            "text/plain": [
              "20080.133"
            ]
          },
          "execution_count": 22,
          "metadata": {},
          "output_type": "execute_result"
        },
        {
          "output_type": "execute_result",
          "data": {
            "text/plain": [
              "20080.133"
            ]
          },
          "metadata": {},
          "execution_count": 22
        }
      ],
      "source": [
        "keras.metrics.mean_absolute_error(x_valid, rnn_forecast).numpy()"
      ]
    }
  ],
  "metadata": {
    "colab": {
      "collapsed_sections": [
        "vidayERjaO5q"
      ],
      "name": "l08c06_forecasting_with_rnn.ipynb",
      "toc_visible": true,
      "provenance": []
    },
    "kernelspec": {
      "display_name": "Python 3",
      "name": "python3"
    }
  },
  "nbformat": 4,
  "nbformat_minor": 0
}