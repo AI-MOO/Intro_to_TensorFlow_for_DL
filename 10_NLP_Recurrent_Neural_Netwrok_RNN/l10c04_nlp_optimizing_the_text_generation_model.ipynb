{
  "cells": [
    {
      "cell_type": "markdown",
      "metadata": {
        "id": "punL79CN7Ox6"
      },
      "source": [
        "##### Copyright 2020 The TensorFlow Authors."
      ]
    },
    {
      "cell_type": "code",
      "execution_count": null,
      "metadata": {
        "cellView": "form",
        "id": "_ckMIh7O7s6D"
      },
      "outputs": [],
      "source": [
        "#@title Licensed under the Apache License, Version 2.0 (the \"License\");\n",
        "# you may not use this file except in compliance with the License.\n",
        "# You may obtain a copy of the License at\n",
        "#\n",
        "# https://www.apache.org/licenses/LICENSE-2.0\n",
        "#\n",
        "# Unless required by applicable law or agreed to in writing, software\n",
        "# distributed under the License is distributed on an \"AS IS\" BASIS,\n",
        "# WITHOUT WARRANTIES OR CONDITIONS OF ANY KIND, either express or implied.\n",
        "# See the License for the specific language governing permissions and\n",
        "# limitations under the License."
      ]
    },
    {
      "cell_type": "markdown",
      "metadata": {
        "id": "Ph5eir3Pf-3z"
      },
      "source": [
        "# Optimizing the Text Generation Model"
      ]
    },
    {
      "cell_type": "markdown",
      "metadata": {
        "id": "S5Uhzt6vVIB2"
      },
      "source": [
        "<table class=\"tfo-notebook-buttons\" align=\"left\">\n",
        "  <td>\n",
        "    <a target=\"_blank\" href=\"https://colab.research.google.com/github/tensorflow/examples/blob/master/courses/udacity_intro_to_tensorflow_for_deep_learning/l10c04_nlp_optimizing_the_text_generation_model.ipynb\"><img src=\"https://www.tensorflow.org/images/colab_logo_32px.png\" />Run in Google Colab</a>\n",
        "  </td>\n",
        "  <td>\n",
        "    <a target=\"_blank\" href=\"https://github.com/tensorflow/examples/blob/master/courses/udacity_intro_to_tensorflow_for_deep_learning/l10c04_nlp_optimizing_the_text_generation_model.ipynb\"><img src=\"https://www.tensorflow.org/images/GitHub-Mark-32px.png\" />View source on GitHub</a>\n",
        "  </td>\n",
        "</table>"
      ]
    },
    {
      "cell_type": "markdown",
      "metadata": {
        "id": "dCxhW3mtLmfb"
      },
      "source": [
        "You've already done some amazing work with generating new songs, but so far we've seen some issues with repetition and a fair amount of incoherence. By using more data and further tweaking the model, you'll be able to get improved results. We'll once again use the [Kaggle Song Lyrics Dataset](https://www.kaggle.com/mousehead/songlyrics) here."
      ]
    },
    {
      "cell_type": "markdown",
      "metadata": {
        "id": "4aHK2CYygXom"
      },
      "source": [
        "## Import TensorFlow and related functions"
      ]
    },
    {
      "cell_type": "code",
      "execution_count": 1,
      "metadata": {
        "id": "2LmLTREBf5ng"
      },
      "outputs": [],
      "source": [
        "import tensorflow as tf\n",
        "\n",
        "from tensorflow.keras.preprocessing.text import Tokenizer\n",
        "from tensorflow.keras.preprocessing.sequence import pad_sequences\n",
        "\n",
        "# Other imports for processing data\n",
        "import string\n",
        "import numpy as np\n",
        "import pandas as pd"
      ]
    },
    {
      "cell_type": "markdown",
      "metadata": {
        "id": "GmLTO_dpgge9"
      },
      "source": [
        "## Get the Dataset\n",
        "\n",
        "As noted above, we'll utilize the [Song Lyrics dataset](https://www.kaggle.com/mousehead/songlyrics) on Kaggle again."
      ]
    },
    {
      "cell_type": "code",
      "execution_count": 2,
      "metadata": {
        "id": "4Bf5FVHfganK"
      },
      "outputs": [
        {
          "name": "stderr",
          "output_type": "stream",
          "text": [
            "'wget' is not recognized as an internal or external command,\n",
            "operable program or batch file.\n"
          ]
        }
      ],
      "source": [
        "!wget --no-check-certificate \\\n",
        "    https://drive.google.com/uc?id=1LiJFZd41ofrWoBtW-pMYsfz1w8Ny0Bj8 \\\n",
        "    -O /tmp/songdata.csv"
      ]
    },
    {
      "cell_type": "markdown",
      "metadata": {
        "id": "Jz9x-7dWihxx"
      },
      "source": [
        "## 250 Songs\n",
        "\n",
        "Now we've seen a model trained on just a small sample of songs, and how this often leads to repetition as you get further along in trying to generate new text. Let's switch to using the 250 songs instead, and see if our output improves. This will actually be nearly 10K lines of lyrics, which should be sufficient.\n",
        "\n",
        "Note that we won't use the full dataset here as it will take up quite a bit of RAM and processing time, but you're welcome to try doing so on your own later. If interested, you'll likely want to use only some of the more common words for the Tokenizer, which will help shrink processing time and memory needed (or else you'd have an output array hundreds of thousands of words long)."
      ]
    },
    {
      "cell_type": "markdown",
      "metadata": {
        "id": "nWbMN_19jfRT"
      },
      "source": [
        "### Preprocessing"
      ]
    },
    {
      "cell_type": "code",
      "execution_count": 3,
      "metadata": {
        "id": "LRmPPJegovBe"
      },
      "outputs": [],
      "source": [
        "def tokenize_corpus(corpus, num_words=-1):\n",
        "  # Fit a Tokenizer on the corpus\n",
        "  if num_words > -1:\n",
        "    tokenizer = Tokenizer(num_words=num_words)\n",
        "  else:\n",
        "    tokenizer = Tokenizer()\n",
        "  tokenizer.fit_on_texts(corpus)\n",
        "  return tokenizer\n",
        "\n",
        "def create_lyrics_corpus(dataset, field):\n",
        "  # Remove all other punctuation\n",
        "  dataset[field] = dataset[field].str.replace('[{}]'.format(string.punctuation), '')\n",
        "  # Make it lowercase\n",
        "  dataset[field] = dataset[field].str.lower()\n",
        "  # Make it one long string to split by line\n",
        "  lyrics = dataset[field].str.cat()\n",
        "  corpus = lyrics.split('\\n')\n",
        "  # Remove any trailing whitespace\n",
        "  for l in range(len(corpus)):\n",
        "    corpus[l] = corpus[l].rstrip()\n",
        "  # Remove any empty lines\n",
        "  corpus = [l for l in corpus if l != '']\n",
        "\n",
        "  return corpus"
      ]
    },
    {
      "cell_type": "code",
      "execution_count": 5,
      "metadata": {
        "id": "kIGedF3XjHj4"
      },
      "outputs": [
        {
          "name": "stdout",
          "output_type": "stream",
          "text": [
            "2000\n"
          ]
        }
      ],
      "source": [
        "def tokenize_corpus(corpus, num_words=-1):\n",
        "  # Fit a Tokenizer on the corpus\n",
        "  if num_words > -1:\n",
        "    tokenizer = Tokenizer(num_words=num_words)\n",
        "  else:\n",
        "    tokenizer = Tokenizer()\n",
        "  tokenizer.fit_on_texts(corpus)\n",
        "  return tokenizer\n",
        "\n",
        "# Read the dataset from csv - this time with 250 songs\n",
        "dataset = pd.read_csv('tmp/songdata.csv', dtype=str)[:250]\n",
        "# Create the corpus using the 'text' column containing lyrics\n",
        "corpus = create_lyrics_corpus(dataset, 'text')\n",
        "# Tokenize the corpus\n",
        "tokenizer = tokenize_corpus(corpus, num_words=2000)\n",
        "total_words = tokenizer.num_words\n",
        "\n",
        "# There should be a lot more words now\n",
        "print(total_words)"
      ]
    },
    {
      "cell_type": "markdown",
      "metadata": {
        "id": "quoDmw_FkNBA"
      },
      "source": [
        "### Create Sequences and Labels"
      ]
    },
    {
      "cell_type": "code",
      "execution_count": 6,
      "metadata": {
        "id": "kkLAf3HmkPSo"
      },
      "outputs": [],
      "source": [
        "sequences = []\n",
        "for line in corpus:\n",
        "\ttoken_list = tokenizer.texts_to_sequences([line])[0]\n",
        "\tfor i in range(1, len(token_list)):\n",
        "\t\tn_gram_sequence = token_list[:i+1]\n",
        "\t\tsequences.append(n_gram_sequence)\n",
        "\n",
        "# Pad sequences for equal input length\n",
        "max_sequence_len = max([len(seq) for seq in sequences])\n",
        "sequences = np.array(pad_sequences(sequences, maxlen=max_sequence_len, padding='pre'))\n",
        "\n",
        "# Split sequences between the \"input\" sequence and \"output\" predicted word\n",
        "input_sequences, labels = sequences[:,:-1], sequences[:,-1]\n",
        "# One-hot encode the labels\n",
        "one_hot_labels = tf.keras.utils.to_categorical(labels, num_classes=total_words)"
      ]
    },
    {
      "cell_type": "markdown",
      "metadata": {
        "id": "cECbqT-blMk-"
      },
      "source": [
        "### Train a (Better) Text Generation Model\n",
        "\n",
        "With more data, we'll cut off after 100 epochs to avoid keeping you here all day. You'll also want to change your runtime type to GPU if you haven't already (you'll need to re-run the above cells if you change runtimes)."
      ]
    },
    {
      "cell_type": "code",
      "execution_count": 7,
      "metadata": {
        "id": "7nHOp6uWlP_P"
      },
      "outputs": [
        {
          "name": "stdout",
          "output_type": "stream",
          "text": [
            "Epoch 1/100\n",
            "1480/1480 [==============================] - 16s 9ms/step - loss: 5.9792 - accuracy: 0.0468\n",
            "Epoch 2/100\n",
            "1480/1480 [==============================] - 15s 10ms/step - loss: 5.6728 - accuracy: 0.0512\n",
            "Epoch 3/100\n",
            "1480/1480 [==============================] - 14s 10ms/step - loss: 5.4892 - accuracy: 0.0654\n",
            "Epoch 4/100\n",
            "1480/1480 [==============================] - 14s 9ms/step - loss: 5.3246 - accuracy: 0.0873\n",
            "Epoch 5/100\n",
            "1480/1480 [==============================] - 13s 9ms/step - loss: 5.1704 - accuracy: 0.1106\n",
            "Epoch 6/100\n",
            "1480/1480 [==============================] - 14s 9ms/step - loss: 4.9922 - accuracy: 0.1279\n",
            "Epoch 7/100\n",
            "1480/1480 [==============================] - 14s 9ms/step - loss: 4.8282 - accuracy: 0.1430\n",
            "Epoch 8/100\n",
            "1480/1480 [==============================] - 14s 9ms/step - loss: 4.6807 - accuracy: 0.1593\n",
            "Epoch 9/100\n",
            "1480/1480 [==============================] - 14s 9ms/step - loss: 4.5449 - accuracy: 0.1761\n",
            "Epoch 10/100\n",
            "1480/1480 [==============================] - 14s 9ms/step - loss: 4.4138 - accuracy: 0.1881\n",
            "Epoch 11/100\n",
            "1480/1480 [==============================] - 14s 9ms/step - loss: 4.2898 - accuracy: 0.2030\n",
            "Epoch 12/100\n",
            "1480/1480 [==============================] - 14s 9ms/step - loss: 4.1790 - accuracy: 0.2155\n",
            "Epoch 13/100\n",
            "1480/1480 [==============================] - 14s 10ms/step - loss: 4.0834 - accuracy: 0.2269\n",
            "Epoch 14/100\n",
            "1480/1480 [==============================] - 14s 9ms/step - loss: 3.9942 - accuracy: 0.2374\n",
            "Epoch 15/100\n",
            "1480/1480 [==============================] - 14s 9ms/step - loss: 3.9137 - accuracy: 0.2481\n",
            "Epoch 16/100\n",
            "1480/1480 [==============================] - 14s 9ms/step - loss: 3.8404 - accuracy: 0.2568\n",
            "Epoch 17/100\n",
            "1480/1480 [==============================] - 14s 9ms/step - loss: 3.7697 - accuracy: 0.2688\n",
            "Epoch 18/100\n",
            "1480/1480 [==============================] - 14s 9ms/step - loss: 3.7040 - accuracy: 0.2783\n",
            "Epoch 19/100\n",
            "1480/1480 [==============================] - 14s 9ms/step - loss: 3.6445 - accuracy: 0.2853\n",
            "Epoch 20/100\n",
            "1480/1480 [==============================] - 13s 9ms/step - loss: 3.5871 - accuracy: 0.2945\n",
            "Epoch 21/100\n",
            "1480/1480 [==============================] - 13s 9ms/step - loss: 3.5374 - accuracy: 0.3013\n",
            "Epoch 22/100\n",
            "1480/1480 [==============================] - 13s 9ms/step - loss: 3.4895 - accuracy: 0.3083\n",
            "Epoch 23/100\n",
            "1480/1480 [==============================] - 13s 9ms/step - loss: 3.4446 - accuracy: 0.3155\n",
            "Epoch 24/100\n",
            "1480/1480 [==============================] - 13s 9ms/step - loss: 3.4008 - accuracy: 0.3245\n",
            "Epoch 25/100\n",
            "1480/1480 [==============================] - 13s 9ms/step - loss: 3.3606 - accuracy: 0.3271\n",
            "Epoch 26/100\n",
            "1480/1480 [==============================] - 12s 8ms/step - loss: 3.3266 - accuracy: 0.3329\n",
            "Epoch 27/100\n",
            "1480/1480 [==============================] - 13s 9ms/step - loss: 3.2874 - accuracy: 0.3403\n",
            "Epoch 28/100\n",
            "1480/1480 [==============================] - 13s 8ms/step - loss: 3.2503 - accuracy: 0.3445\n",
            "Epoch 29/100\n",
            "1480/1480 [==============================] - 13s 8ms/step - loss: 3.2211 - accuracy: 0.3491\n",
            "Epoch 30/100\n",
            "1480/1480 [==============================] - 13s 9ms/step - loss: 3.1918 - accuracy: 0.3531\n",
            "Epoch 31/100\n",
            "1480/1480 [==============================] - 13s 9ms/step - loss: 3.1597 - accuracy: 0.3578\n",
            "Epoch 32/100\n",
            "1480/1480 [==============================] - 13s 9ms/step - loss: 3.1306 - accuracy: 0.3630\n",
            "Epoch 33/100\n",
            "1480/1480 [==============================] - 13s 9ms/step - loss: 3.1117 - accuracy: 0.3666\n",
            "Epoch 34/100\n",
            "1480/1480 [==============================] - 13s 9ms/step - loss: 3.0769 - accuracy: 0.3714\n",
            "Epoch 35/100\n",
            "1480/1480 [==============================] - 13s 9ms/step - loss: 3.0517 - accuracy: 0.3745\n",
            "Epoch 36/100\n",
            "1480/1480 [==============================] - 13s 9ms/step - loss: 3.0305 - accuracy: 0.3777\n",
            "Epoch 37/100\n",
            "1480/1480 [==============================] - 14s 9ms/step - loss: 3.0058 - accuracy: 0.3831\n",
            "Epoch 38/100\n",
            "1480/1480 [==============================] - 13s 9ms/step - loss: 2.9795 - accuracy: 0.3873\n",
            "Epoch 39/100\n",
            "1480/1480 [==============================] - 14s 9ms/step - loss: 2.9630 - accuracy: 0.3895\n",
            "Epoch 40/100\n",
            "1480/1480 [==============================] - 13s 9ms/step - loss: 2.9395 - accuracy: 0.3934\n",
            "Epoch 41/100\n",
            "1480/1480 [==============================] - 13s 9ms/step - loss: 2.9209 - accuracy: 0.3952\n",
            "Epoch 42/100\n",
            "1480/1480 [==============================] - 13s 9ms/step - loss: 2.8977 - accuracy: 0.3996\n",
            "Epoch 43/100\n",
            "1480/1480 [==============================] - 13s 9ms/step - loss: 2.8757 - accuracy: 0.4039\n",
            "Epoch 44/100\n",
            "1480/1480 [==============================] - 14s 9ms/step - loss: 2.8613 - accuracy: 0.4058\n",
            "Epoch 45/100\n",
            "1480/1480 [==============================] - 14s 9ms/step - loss: 2.8390 - accuracy: 0.4102\n",
            "Epoch 46/100\n",
            "1480/1480 [==============================] - 14s 10ms/step - loss: 2.8224 - accuracy: 0.4125\n",
            "Epoch 47/100\n",
            "1480/1480 [==============================] - 13s 9ms/step - loss: 2.8060 - accuracy: 0.4156\n",
            "Epoch 48/100\n",
            "1480/1480 [==============================] - 14s 9ms/step - loss: 2.7978 - accuracy: 0.4164\n",
            "Epoch 49/100\n",
            "1480/1480 [==============================] - 14s 9ms/step - loss: 2.7733 - accuracy: 0.4213\n",
            "Epoch 50/100\n",
            "1480/1480 [==============================] - 14s 9ms/step - loss: 2.7617 - accuracy: 0.4238\n",
            "Epoch 51/100\n",
            "1480/1480 [==============================] - 14s 9ms/step - loss: 2.7398 - accuracy: 0.4276\n",
            "Epoch 52/100\n",
            "1480/1480 [==============================] - 13s 9ms/step - loss: 2.7275 - accuracy: 0.4295\n",
            "Epoch 53/100\n",
            "1480/1480 [==============================] - 14s 9ms/step - loss: 2.7170 - accuracy: 0.4323\n",
            "Epoch 54/100\n",
            "1480/1480 [==============================] - 13s 9ms/step - loss: 2.6928 - accuracy: 0.4354\n",
            "Epoch 55/100\n",
            "1480/1480 [==============================] - 14s 9ms/step - loss: 2.6833 - accuracy: 0.4369\n",
            "Epoch 56/100\n",
            "1480/1480 [==============================] - 14s 9ms/step - loss: 2.6675 - accuracy: 0.4390\n",
            "Epoch 57/100\n",
            "1480/1480 [==============================] - 14s 9ms/step - loss: 2.6500 - accuracy: 0.4436\n",
            "Epoch 58/100\n",
            "1480/1480 [==============================] - 14s 9ms/step - loss: 2.6408 - accuracy: 0.4434\n",
            "Epoch 59/100\n",
            "1480/1480 [==============================] - 14s 9ms/step - loss: 2.6291 - accuracy: 0.4469\n",
            "Epoch 60/100\n",
            "1480/1480 [==============================] - 14s 9ms/step - loss: 2.6185 - accuracy: 0.4473\n",
            "Epoch 61/100\n",
            "1480/1480 [==============================] - 14s 9ms/step - loss: 2.6027 - accuracy: 0.4492\n",
            "Epoch 62/100\n",
            "1480/1480 [==============================] - 14s 9ms/step - loss: 2.5949 - accuracy: 0.4509\n",
            "Epoch 63/100\n",
            "1480/1480 [==============================] - 13s 9ms/step - loss: 2.5811 - accuracy: 0.4548\n",
            "Epoch 64/100\n",
            "1480/1480 [==============================] - 15s 10ms/step - loss: 2.5765 - accuracy: 0.4562\n",
            "Epoch 65/100\n",
            "1480/1480 [==============================] - 15s 10ms/step - loss: 2.5544 - accuracy: 0.4603\n",
            "Epoch 66/100\n",
            "1480/1480 [==============================] - 13s 9ms/step - loss: 2.5427 - accuracy: 0.4617\n",
            "Epoch 67/100\n",
            "1480/1480 [==============================] - 14s 9ms/step - loss: 2.5366 - accuracy: 0.4630\n",
            "Epoch 68/100\n",
            "1480/1480 [==============================] - 16s 11ms/step - loss: 2.5337 - accuracy: 0.4628\n",
            "Epoch 69/100\n",
            "1480/1480 [==============================] - 14s 10ms/step - loss: 2.5193 - accuracy: 0.4657\n",
            "Epoch 70/100\n",
            "1480/1480 [==============================] - 14s 9ms/step - loss: 2.5055 - accuracy: 0.4665\n",
            "Epoch 71/100\n",
            "1480/1480 [==============================] - 14s 9ms/step - loss: 2.4950 - accuracy: 0.4690\n",
            "Epoch 72/100\n",
            "1480/1480 [==============================] - 13s 9ms/step - loss: 2.4789 - accuracy: 0.4714\n",
            "Epoch 73/100\n",
            "1480/1480 [==============================] - 16s 10ms/step - loss: 2.4730 - accuracy: 0.4742\n",
            "Epoch 74/100\n",
            "1480/1480 [==============================] - 15s 10ms/step - loss: 2.4633 - accuracy: 0.4752\n",
            "Epoch 75/100\n",
            "1480/1480 [==============================] - 14s 10ms/step - loss: 2.4572 - accuracy: 0.4766\n",
            "Epoch 76/100\n",
            "1480/1480 [==============================] - 13s 9ms/step - loss: 2.4482 - accuracy: 0.4784\n",
            "Epoch 77/100\n",
            "1480/1480 [==============================] - 14s 9ms/step - loss: 2.4372 - accuracy: 0.4805\n",
            "Epoch 78/100\n",
            "1480/1480 [==============================] - 14s 9ms/step - loss: 2.4360 - accuracy: 0.4789\n",
            "Epoch 79/100\n",
            "1480/1480 [==============================] - 15s 10ms/step - loss: 2.4204 - accuracy: 0.4837\n",
            "Epoch 80/100\n",
            "1480/1480 [==============================] - 13s 9ms/step - loss: 2.4235 - accuracy: 0.4826\n",
            "Epoch 81/100\n",
            "1480/1480 [==============================] - 14s 9ms/step - loss: 2.4066 - accuracy: 0.4858\n",
            "Epoch 82/100\n",
            "1480/1480 [==============================] - 14s 10ms/step - loss: 2.3865 - accuracy: 0.4884\n",
            "Epoch 83/100\n",
            "1480/1480 [==============================] - 14s 10ms/step - loss: 2.3897 - accuracy: 0.4884\n",
            "Epoch 84/100\n",
            "1480/1480 [==============================] - 14s 9ms/step - loss: 2.3729 - accuracy: 0.4938\n",
            "Epoch 85/100\n",
            "1480/1480 [==============================] - 13s 9ms/step - loss: 2.3696 - accuracy: 0.4922\n",
            "Epoch 86/100\n",
            "1480/1480 [==============================] - 13s 9ms/step - loss: 2.3677 - accuracy: 0.4911\n",
            "Epoch 87/100\n",
            "1480/1480 [==============================] - 14s 9ms/step - loss: 2.3598 - accuracy: 0.4933\n",
            "Epoch 88/100\n",
            "1480/1480 [==============================] - 13s 9ms/step - loss: 2.3468 - accuracy: 0.4961\n",
            "Epoch 89/100\n",
            "1480/1480 [==============================] - 14s 9ms/step - loss: 2.3366 - accuracy: 0.4980\n",
            "Epoch 90/100\n",
            "1480/1480 [==============================] - 13s 9ms/step - loss: 2.3268 - accuracy: 0.5018\n",
            "Epoch 91/100\n",
            "1480/1480 [==============================] - 13s 9ms/step - loss: 2.3229 - accuracy: 0.4993\n",
            "Epoch 92/100\n",
            "1480/1480 [==============================] - 14s 9ms/step - loss: 2.3180 - accuracy: 0.5007\n",
            "Epoch 93/100\n",
            "1480/1480 [==============================] - 14s 9ms/step - loss: 2.3105 - accuracy: 0.5039\n",
            "Epoch 94/100\n",
            "1480/1480 [==============================] - 13s 9ms/step - loss: 2.3031 - accuracy: 0.5031\n",
            "Epoch 95/100\n",
            "1480/1480 [==============================] - 12s 8ms/step - loss: 2.2979 - accuracy: 0.5048\n",
            "Epoch 96/100\n",
            "1480/1480 [==============================] - 12s 8ms/step - loss: 2.3059 - accuracy: 0.5046\n",
            "Epoch 97/100\n",
            "1480/1480 [==============================] - 13s 9ms/step - loss: 2.2787 - accuracy: 0.5090\n",
            "Epoch 98/100\n",
            "1480/1480 [==============================] - 14s 9ms/step - loss: 2.2742 - accuracy: 0.5073\n",
            "Epoch 99/100\n",
            "1480/1480 [==============================] - 14s 9ms/step - loss: 2.2676 - accuracy: 0.5093\n",
            "Epoch 100/100\n",
            "1480/1480 [==============================] - 13s 9ms/step - loss: 2.2676 - accuracy: 0.5103\n"
          ]
        }
      ],
      "source": [
        "from tensorflow.keras.models import Sequential\n",
        "from tensorflow.keras.layers import Embedding, LSTM, Dense, Bidirectional\n",
        "\n",
        "model = Sequential()\n",
        "model.add(Embedding(total_words, 64, input_length=max_sequence_len-1))\n",
        "model.add(Bidirectional(LSTM(20)))\n",
        "model.add(Dense(total_words, activation='softmax'))\n",
        "model.compile(loss='categorical_crossentropy', optimizer='adam', metrics=['accuracy'])\n",
        "history = model.fit(input_sequences, one_hot_labels, epochs=100, verbose=1)"
      ]
    },
    {
      "cell_type": "markdown",
      "metadata": {
        "id": "MgvIz20nlQcq"
      },
      "source": [
        "### View the Training Graph"
      ]
    },
    {
      "cell_type": "code",
      "execution_count": 8,
      "metadata": {
        "id": "rOqmmarvlSLh"
      },
      "outputs": [
        {
          "data": {
            "image/png": "[encoded data removed]",
            "text/plain": [
              "<Figure size 640x480 with 1 Axes>"
            ]
          },
          "metadata": {},
          "output_type": "display_data"
        }
      ],
      "source": [
        "import matplotlib.pyplot as plt\n",
        "\n",
        "def plot_graphs(history, string):\n",
        "  plt.plot(history.history[string])\n",
        "  plt.xlabel(\"Epochs\")\n",
        "  plt.ylabel(string)\n",
        "  plt.show()\n",
        "\n",
        "plot_graphs(history, 'accuracy')"
      ]
    },
    {
      "cell_type": "markdown",
      "metadata": {
        "id": "ISLZZGlQlSxh"
      },
      "source": [
        "### Generate better lyrics!\n",
        "\n",
        "This time around, we should be able to get a more interesting output with less repetition."
      ]
    },
    {
      "cell_type": "code",
      "execution_count": 9,
      "metadata": {
        "id": "P96oVMk3lU7y"
      },
      "outputs": [
        {
          "name": "stdout",
          "output_type": "stream",
          "text": [
            "im feeling chills me to be the way i think i think that i could be rockn roller now of roll star jet crowd tropical sky phone phone somethings think that hell moon noise in blame her trees on my land scream age screw beneath town promises capture edge share moment capture neighbor imagine jump thousand kill harm hardly share neighbor harm hardly pack bills backstage bang hardly pack dame rise minute rise forgot forgot imagine imagine chat farm share treasure bang hardly wanna farm farm farm hardly step quarter tried quarter wanna longer farm loss shadow family rise beat backstage tear hit\n"
          ]
        }
      ],
      "source": [
        "seed_text = \"im feeling chills\"\n",
        "next_words = 100\n",
        "\n",
        "for _ in range(next_words):\n",
        "\ttoken_list = tokenizer.texts_to_sequences([seed_text])[0]\n",
        "\ttoken_list = pad_sequences([token_list], maxlen=max_sequence_len-1, padding='pre')\n",
        "\tpredicted = np.argmax(model.predict(token_list), axis=-1)\n",
        "\toutput_word = \"\"\n",
        "\tfor word, index in tokenizer.word_index.items():\n",
        "\t\tif index == predicted:\n",
        "\t\t\toutput_word = word\n",
        "\t\t\tbreak\n",
        "\tseed_text += \" \" + output_word\n",
        "print(seed_text)"
      ]
    },
    {
      "cell_type": "markdown",
      "metadata": {
        "id": "upgJKV8_oRU9"
      },
      "source": [
        "### Varying the Possible Outputs\n",
        "\n",
        "In running the above, you may notice that the same seed text will generate similar outputs. This is because the code is currently always choosing the top predicted class as the next word. What if you wanted more variance in the output?\n",
        "\n",
        "Switching from `model.predict_classes` to `model.predict_proba` will get us all of the class probabilities. We can combine this with `np.random.choice` to select a given predicted output based on a probability, thereby giving a bit more randomness to our outputs."
      ]
    },
    {
      "cell_type": "code",
      "execution_count": 10,
      "metadata": {
        "id": "lZe9gaJeoGVP"
      },
      "outputs": [
        {
          "name": "stdout",
          "output_type": "stream",
          "text": [
            "7\n"
          ]
        }
      ],
      "source": [
        "# Test the method with just the first word after the seed text\n",
        "seed_text = \"im feeling chills\"\n",
        "next_words = 100\n",
        "\n",
        "token_list = tokenizer.texts_to_sequences([seed_text])[0]\n",
        "token_list = pad_sequences([token_list], maxlen=max_sequence_len-1, padding='pre')\n",
        "predicted_probs = model.predict(token_list)[0]\n",
        "predicted = np.random.choice([x for x in range(len(predicted_probs))],\n",
        "                             p=predicted_probs)\n",
        "# Running this cell multiple times should get you some variance in output\n",
        "print(predicted)"
      ]
    },
    {
      "cell_type": "code",
      "execution_count": 11,
      "metadata": {
        "id": "ee7WKgRGrJy1"
      },
      "outputs": [
        {
          "name": "stdout",
          "output_type": "stream",
          "text": [
            "im feeling chills me to get it up gotta have a mother for me by the light baby i still lala make me now jump lovelight somebody to know that hes right out me there had to myself my talk stars spread me and sad never power power mudda constant hey helen hey hey helen hey hey helen soul given south park note sand last price nightmare shake fever soul crazy rhythm of around cars complain pride price cheeks masters quarter jump quarter steal hand bridges rise push advice what bang hardly jump early machine grow bang rise hey hey helen now longer\n"
          ]
        }
      ],
      "source": [
        "# Use this process for the full output generation\n",
        "seed_text = \"im feeling chills\"\n",
        "next_words = 100\n",
        "\n",
        "for _ in range(next_words):\n",
        "  token_list = tokenizer.texts_to_sequences([seed_text])[0]\n",
        "  token_list = pad_sequences([token_list], maxlen=max_sequence_len-1, padding='pre')\n",
        "  predicted_probs = model.predict(token_list)[0]\n",
        "  predicted = np.random.choice([x for x in range(len(predicted_probs))],\n",
        "                               p=predicted_probs)\n",
        "  output_word = \"\"\n",
        "  for word, index in tokenizer.word_index.items():\n",
        "    if index == predicted:\n",
        "      output_word = word\n",
        "      break\n",
        "  seed_text += \" \" + output_word\n",
        "print(seed_text)"
      ]
    }
  ],
  "metadata": {
    "accelerator": "GPU",
    "colab": {
      "name": "l10c04_nlp_optimizing_the_text_generation_model.ipynb",
      "provenance": [],
      "toc_visible": true
    },
    "kernelspec": {
      "display_name": "Python 3",
      "name": "python3"
    },
    "language_info": {
      "codemirror_mode": {
        "name": "ipython",
        "version": 3
      },
      "file_extension": ".py",
      "mimetype": "text/x-python",
      "name": "python",
      "nbconvert_exporter": "python",
      "pygments_lexer": "ipython3",
      "version": "3.8.0"
    }
  },
  "nbformat": 4,
  "nbformat_minor": 0
}
